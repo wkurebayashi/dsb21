{
  "nbformat": 4,
  "nbformat_minor": 0,
  "metadata": {
    "colab": {
      "name": "Untitled7.ipynb",
      "provenance": [],
      "collapsed_sections": []
    },
    "kernelspec": {
      "name": "python3",
      "display_name": "Python 3"
    },
    "language_info": {
      "name": "python"
    }
  },
  "cells": [
    {
      "cell_type": "markdown",
      "metadata": {
        "id": "RElbwNXlB-ka"
      },
      "source": [
        "# PythonでAIを体験する\n",
        "\n",
        "ここでは，Pythonプログラミング未経験の方に，PythonによるAIプログラミングとはどのようなものなのか，ざっくり知ってもらえるように解説を試みます．手書き数字の画像データをAIに与え，どの数字か当てさせるという問題を考えます．"
      ]
    },
    {
      "cell_type": "markdown",
      "metadata": {
        "id": "FDrG3JxdCS7b"
      },
      "source": [
        "## 1. ライブラリを読み込む\n",
        "\n",
        "- 1行目: データ可視化ライブラリ Matplotlib を読み込んでいます．\n",
        "- 2行目: 機械学習ライブラリ Scikit-learn から，データの分類を行うAIを読み込んでいます．"
      ]
    },
    {
      "cell_type": "code",
      "metadata": {
        "id": "rZgHfHnd4Wmp"
      },
      "source": [
        "import matplotlib.pyplot as plt\n",
        "from sklearn.ensemble import RandomForestClassifier"
      ],
      "execution_count": null,
      "outputs": []
    },
    {
      "cell_type": "markdown",
      "metadata": {
        "id": "sdc5VK9ECSCr"
      },
      "source": [
        "## 2. データを読み込む\n",
        "\n",
        "- 1行目: 機械学習ライブラリ Scikit-learn に含まれている手書き数字の画像データを読み込みます．\n",
        "- 2〜3行目: 読み込んだデータを X, y, images などの「変数」の中に入れておきます（プログラミングの「変数」にはさまざまなデータを入れることができます）．X と y はそれぞれAIの学習に使う画像データとその答（どの数字か）のデータで，images は画面に描画するための画像データです．\n",
        "\n"
      ]
    },
    {
      "cell_type": "code",
      "metadata": {
        "id": "FNDdPG2b4MRh"
      },
      "source": [
        "from sklearn.datasets import load_digits\n",
        "X = load_digits()['data']\n",
        "y = load_digits()['target']\n",
        "images = load_digits()['images']"
      ],
      "execution_count": null,
      "outputs": []
    },
    {
      "cell_type": "markdown",
      "metadata": {
        "id": "kQYSFN6sCULP"
      },
      "source": [
        "ここで，試しに手書き数字の画像データを画面に描画して，目で確認してみましょう．\n",
        "- 1行目: 321番目のデータがどの数字かを表示しています．\n",
        "- 2行目: 321番目の画像データを描画しています．"
      ]
    },
    {
      "cell_type": "code",
      "metadata": {
        "colab": {
          "base_uri": "https://localhost:8080/",
          "height": 299
        },
        "id": "tjewVvlI4lp0",
        "outputId": "44f0d696-9d0d-4779-ea79-4d910f6a48af"
      },
      "source": [
        "print('数字:', y[321])\n",
        "plt.imshow(images[321])"
      ],
      "execution_count": null,
      "outputs": [
        {
          "output_type": "stream",
          "text": [
            "数字: 6\n"
          ],
          "name": "stdout"
        },
        {
          "output_type": "execute_result",
          "data": {
            "text/plain": [
              "<matplotlib.image.AxesImage at 0x7fd477362a90>"
            ]
          },
          "metadata": {
            "tags": []
          },
          "execution_count": 3
        },
        {
          "output_type": "display_data",
          "data": {
            "image/png": "[encoded data removed]",
            "text/plain": [
              "<Figure size 432x288 with 1 Axes>"
            ]
          },
          "metadata": {
            "tags": [],
            "needs_background": "light"
          }
        }
      ]
    },
    {
      "cell_type": "markdown",
      "metadata": {
        "id": "GICtO3uXCVDR"
      },
      "source": [
        "## 3. AIに学習させる\n",
        "\n",
        "AIにデータを与え，手書き数字の画像データを分類する問題を学習させます．\n",
        "- 1行目: AIを作成しています．\n",
        "- 2行目: 変数 X, y のデータを使ってAIに学習させています．\n",
        "\n"
      ]
    },
    {
      "cell_type": "code",
      "metadata": {
        "colab": {
          "base_uri": "https://localhost:8080/"
        },
        "id": "_4sEpjbH59HL",
        "outputId": "f667fa96-d7b3-4488-a949-fbbad8dcf3ec"
      },
      "source": [
        "regr = RandomForestClassifier()\n",
        "regr.fit(X, y)"
      ],
      "execution_count": null,
      "outputs": [
        {
          "output_type": "execute_result",
          "data": {
            "text/plain": [
              "RandomForestClassifier(bootstrap=True, ccp_alpha=0.0, class_weight=None,\n",
              "                       criterion='gini', max_depth=None, max_features='auto',\n",
              "                       max_leaf_nodes=None, max_samples=None,\n",
              "                       min_impurity_decrease=0.0, min_impurity_split=None,\n",
              "                       min_samples_leaf=1, min_samples_split=2,\n",
              "                       min_weight_fraction_leaf=0.0, n_estimators=100,\n",
              "                       n_jobs=None, oob_score=False, random_state=None,\n",
              "                       verbose=0, warm_start=False)"
            ]
          },
          "metadata": {
            "tags": []
          },
          "execution_count": 4
        }
      ]
    },
    {
      "cell_type": "markdown",
      "metadata": {
        "id": "eeV-ULBLCVxc"
      },
      "source": [
        "## 4. AIに画像データを分類させる\n",
        "\n",
        "AIに分類を行わせ，うまく学習できたかを確認します．例として，AIに654番目の画像データを与え，どの数字かを答えさせましょう．あとで他の画像データについても適用しやすいように，変数 i を用意し，変数 i に 654 を入れておきます．"
      ]
    },
    {
      "cell_type": "code",
      "metadata": {
        "id": "duckkIYoOzPc"
      },
      "source": [
        "i = 654"
      ],
      "execution_count": null,
      "outputs": []
    },
    {
      "cell_type": "markdown",
      "metadata": {
        "id": "3L7ajA2zO3oE"
      },
      "source": [
        "そして，予測を行います．\n",
        "- 1行目: AIに分類を行わせています．\n",
        "- 2〜3行目: i 番目の画像データについて，分類結果と正解の数字を表示しています．\n",
        "- 4行目: i 番目の画像データを描画しています．"
      ]
    },
    {
      "cell_type": "code",
      "metadata": {
        "colab": {
          "base_uri": "https://localhost:8080/",
          "height": 316
        },
        "id": "hp1CZ_oT65pq",
        "outputId": "5ea05cd5-e1d2-4bbd-bb29-bbdbd47c5914"
      },
      "source": [
        "y_pred = regr.predict(X)\n",
        "print(i, '番目の画像データ')\n",
        "print('予測結果:', y_pred[i], '正解:', y[i])\n",
        "plt.imshow(images[i])"
      ],
      "execution_count": null,
      "outputs": [
        {
          "output_type": "stream",
          "text": [
            "654 番目の画像データ\n",
            "予測結果: 8 正解: 8\n"
          ],
          "name": "stdout"
        },
        {
          "output_type": "execute_result",
          "data": {
            "text/plain": [
              "<matplotlib.image.AxesImage at 0x7fd47724ced0>"
            ]
          },
          "metadata": {
            "tags": []
          },
          "execution_count": 6
        },
        {
          "output_type": "display_data",
          "data": {
            "image/png": "[encoded data removed]",
            "text/plain": [
              "<Figure size 432x288 with 1 Axes>"
            ]
          },
          "metadata": {
            "tags": [],
            "needs_background": "light"
          }
        }
      ]
    },
    {
      "cell_type": "markdown",
      "metadata": {
        "id": "1dVzSV5mO7AB"
      },
      "source": [
        "654番目の画像データについては，AIの分類が的中したようです．もしよければ「i = 654」という部分を他の番号に書き直し，うまく分類できるか試してみて下さい．これを読んだ方が「AIは意外に簡単なんだ！」と思ってくれたのなら幸いです．"
      ]
    }
  ]
}